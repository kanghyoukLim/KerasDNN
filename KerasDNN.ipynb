{
 "cells": [
  {
   "cell_type": "markdown",
   "id": "1edf8043-7d6b-4692-8dc5-bcd6fc7ea73d",
   "metadata": {},
   "source": [
    "# Keras 신경망 구성\n",
    "  \n",
    "###### 2024-2-25 KH.LIM @Cheongju MyHappyHome\n",
    "###### 신경망 교과서 참조\n",
    "###### over96@naver.com"
   ]
  },
  {
   "cell_type": "code",
   "execution_count": 3,
   "id": "61c369ba-c017-4067-8f45-09d90ab5dde5",
   "metadata": {
    "tags": []
   },
   "outputs": [
    {
     "name": "stdout",
     "output_type": "stream",
     "text": [
      "Defaulting to user installation because normal site-packages is not writeable\n",
      "Requirement already satisfied: keras in c:\\users\\happy home\\appdata\\roaming\\python\\python311\\site-packages (2.14.0)\n"
     ]
    }
   ],
   "source": [
    "!pip install keras"
   ]
  },
  {
   "cell_type": "code",
   "execution_count": 44,
   "id": "8ca9b1a3-16f7-49ac-974c-8d259f58da95",
   "metadata": {
    "tags": []
   },
   "outputs": [],
   "source": [
    "# 비어있는 Sequential 모델 만들기\n",
    "\n",
    "from keras.models import Sequential\n",
    "model = Sequential()"
   ]
  },
  {
   "cell_type": "code",
   "execution_count": 45,
   "id": "562d00f7-98b4-4c7c-9c09-b2bf0ecccba9",
   "metadata": {},
   "outputs": [],
   "source": [
    "# 레이어 추가하기\n",
    "\n",
    "from keras.layers import Dense\n",
    "# 레이어 1 \n",
    "# input_dim 은 입력요소(차원)의 갯수, units은 출력차원의 수\n",
    "model.add(Dense(units=4, activation='sigmoid', input_dim=3))\n",
    "# 출력 레이어\n",
    "model.add(Dense(units=1, activation='sigmoid'))"
   ]
  },
  {
   "cell_type": "code",
   "execution_count": 46,
   "id": "599d16c5-3b06-4a5b-802e-a68211822ede",
   "metadata": {
    "tags": []
   },
   "outputs": [
    {
     "name": "stdout",
     "output_type": "stream",
     "text": [
      "Model: \"sequential_6\"\n",
      "_________________________________________________________________\n",
      " Layer (type)                Output Shape              Param #   \n",
      "=================================================================\n",
      " dense_23 (Dense)            (None, 4)                 16        \n",
      "                                                                 \n",
      " dense_24 (Dense)            (None, 1)                 5         \n",
      "                                                                 \n",
      "=================================================================\n",
      "Total params: 21 (84.00 Byte)\n",
      "Trainable params: 21 (84.00 Byte)\n",
      "Non-trainable params: 0 (0.00 Byte)\n",
      "_________________________________________________________________\n",
      "None\n"
     ]
    }
   ],
   "source": [
    "# 모델 아키텍처 검토하기\n",
    "print(model.summary())"
   ]
  },
  {
   "cell_type": "markdown",
   "id": "242391f9-8769-43ed-ab97-12477ae0ad17",
   "metadata": {},
   "source": [
    "Param # 은 모델이 훈련해야 할 가중치와 편향의 개수"
   ]
  },
  {
   "cell_type": "code",
   "execution_count": 47,
   "id": "109a467b-2623-441f-bdc9-5f6c3c4cbc3f",
   "metadata": {
    "tags": []
   },
   "outputs": [],
   "source": [
    "# 모델 컴파일 및 훈련\n",
    "\n",
    "from keras import optimizers\n",
    "sgd = optimizers.SGD(learning_rate=1)\n",
    "model.compile(loss='mean_squared_error', optimizer=sgd)"
   ]
  },
  {
   "cell_type": "code",
   "execution_count": 48,
   "id": "93b04eaf-eb37-4ebe-811d-5534d52718e5",
   "metadata": {
    "tags": []
   },
   "outputs": [],
   "source": [
    "# 학습데이터는 XOR 연산을 위한 데이터\n",
    "import numpy as np\n",
    "\n",
    "# 결과를 재현할 수 있도록 랜덤시드 고정\n",
    "np.random.seed(9)\n",
    "X = np.array([[0,0,1], [0,1,1], [1,0,1], [1,1,1]])\n",
    "y = np.array([[0],[1],[1],[0]])"
   ]
  },
  {
   "cell_type": "code",
   "execution_count": 49,
   "id": "486238f0-d4ab-464f-8ff7-62ae441ade90",
   "metadata": {
    "tags": []
   },
   "outputs": [
    {
     "data": {
      "text/plain": [
       "<keras.src.callbacks.History at 0x21a26c07350>"
      ]
     },
     "execution_count": 49,
     "metadata": {},
     "output_type": "execute_result"
    }
   ],
   "source": [
    "# 반복횟수 결정\n",
    "model.fit(X,y, epochs=1500, verbose=False)"
   ]
  },
  {
   "cell_type": "code",
   "execution_count": 50,
   "id": "4d5fda26-a546-4924-a243-24e5d4d1215d",
   "metadata": {
    "tags": []
   },
   "outputs": [
    {
     "name": "stdout",
     "output_type": "stream",
     "text": [
      "1/1 [==============================] - 0s 57ms/step\n",
      "[[0.05001061]\n",
      " [0.95613647]\n",
      " [0.93248785]\n",
      " [0.07582481]]\n"
     ]
    }
   ],
   "source": [
    "# 예측값\n",
    "print(model.predict(X))"
   ]
  },
  {
   "cell_type": "markdown",
   "id": "015038a8-5efa-4cb3-b52a-6e7940462063",
   "metadata": {},
   "source": [
    "  \n",
    "### 레이어 확장해보기"
   ]
  },
  {
   "cell_type": "code",
   "execution_count": null,
   "id": "aedebf01-bc25-47ab-8bdc-f8ed3bc14194",
   "metadata": {},
   "outputs": [],
   "source": []
  },
  {
   "cell_type": "code",
   "execution_count": 52,
   "id": "a321c39b-f4ba-421b-9f6c-f1e3c495a054",
   "metadata": {
    "tags": []
   },
   "outputs": [],
   "source": [
    "# 비어있는 Sequential 모델 만들기\n",
    "\n",
    "from keras.models import Sequential\n",
    "model = Sequential()"
   ]
  },
  {
   "cell_type": "code",
   "execution_count": 53,
   "id": "246c7d27-edf7-450b-afc9-ed50551396e0",
   "metadata": {},
   "outputs": [],
   "source": [
    "# 레이어 추가하기\n",
    "\n",
    "from keras.layers import Dense\n",
    "# 레이어 1 \n",
    "model.add(Dense(units=4, activation='sigmoid', input_dim=3))\n",
    "# 레이어 2 (추가)\n",
    "model.add(Dense(units=4, activation='sigmoid', input_dim=4))\n",
    "\n",
    "\n",
    "# 출력 레이어\n",
    "model.add(Dense(units=1, activation='sigmoid'))"
   ]
  },
  {
   "cell_type": "code",
   "execution_count": 54,
   "id": "f7afa988-00f9-4842-94e7-39b7300a112f",
   "metadata": {
    "tags": []
   },
   "outputs": [
    {
     "name": "stdout",
     "output_type": "stream",
     "text": [
      "Model: \"sequential_7\"\n",
      "_________________________________________________________________\n",
      " Layer (type)                Output Shape              Param #   \n",
      "=================================================================\n",
      " dense_28 (Dense)            (None, 4)                 16        \n",
      "                                                                 \n",
      " dense_29 (Dense)            (None, 4)                 20        \n",
      "                                                                 \n",
      " dense_30 (Dense)            (None, 1)                 5         \n",
      "                                                                 \n",
      "=================================================================\n",
      "Total params: 41 (164.00 Byte)\n",
      "Trainable params: 41 (164.00 Byte)\n",
      "Non-trainable params: 0 (0.00 Byte)\n",
      "_________________________________________________________________\n",
      "None\n"
     ]
    }
   ],
   "source": [
    "# 모델 아키텍처 검토하기\n",
    "print(model.summary())"
   ]
  },
  {
   "cell_type": "markdown",
   "id": "6019c60c-2eb2-4564-9267-5e84e9887aa4",
   "metadata": {},
   "source": [
    "Param # 은 모델이 훈련해야 할 가중치와 편향의 개수"
   ]
  },
  {
   "cell_type": "code",
   "execution_count": 55,
   "id": "c121eace-2eec-4476-b7d9-07d0b20224be",
   "metadata": {
    "tags": []
   },
   "outputs": [],
   "source": [
    "# 모델 컴파일 및 훈련\n",
    "\n",
    "from keras import optimizers\n",
    "sgd = optimizers.SGD(learning_rate=1)\n",
    "model.compile(loss='mean_squared_error', optimizer=sgd)"
   ]
  },
  {
   "cell_type": "code",
   "execution_count": 56,
   "id": "85f3fe65-cbcf-4798-9635-93b0f6306428",
   "metadata": {
    "tags": []
   },
   "outputs": [],
   "source": [
    "# 학습데이터는 XOR 연산을 위한 데이터\n",
    "import numpy as np\n",
    "\n",
    "# 결과를 재현할 수 있도록 랜덤시드 고정\n",
    "np.random.seed(9)\n",
    "X = np.array([[0,0,1], [0,1,1], [1,0,1], [1,1,1]])\n",
    "y = np.array([[0],[1],[1],[0]])"
   ]
  },
  {
   "cell_type": "code",
   "execution_count": 57,
   "id": "c7f73fef-54d6-462d-bcb2-c5442ca2bb91",
   "metadata": {
    "tags": []
   },
   "outputs": [
    {
     "data": {
      "text/plain": [
       "<keras.src.callbacks.History at 0x21a26ac3490>"
      ]
     },
     "execution_count": 57,
     "metadata": {},
     "output_type": "execute_result"
    }
   ],
   "source": [
    "# 반복횟수 결정\n",
    "model.fit(X,y, epochs=1500, verbose=False)"
   ]
  },
  {
   "cell_type": "code",
   "execution_count": 58,
   "id": "184408a8-f844-4abb-9fe3-304f6364e895",
   "metadata": {
    "tags": []
   },
   "outputs": [
    {
     "name": "stdout",
     "output_type": "stream",
     "text": [
      "1/1 [==============================] - 0s 62ms/step\n",
      "[[0.11487298]\n",
      " [0.81290907]\n",
      " [0.88001204]\n",
      " [0.18288772]]\n"
     ]
    }
   ],
   "source": [
    "# 예측값\n",
    "print(model.predict(X))"
   ]
  },
  {
   "cell_type": "code",
   "execution_count": null,
   "id": "de2db249-b7f0-4050-93e0-077e07a0b954",
   "metadata": {},
   "outputs": [],
   "source": []
  }
 ],
 "metadata": {
  "kernelspec": {
   "display_name": "Python 3 (ipykernel)",
   "language": "python",
   "name": "python3"
  },
  "language_info": {
   "codemirror_mode": {
    "name": "ipython",
    "version": 3
   },
   "file_extension": ".py",
   "mimetype": "text/x-python",
   "name": "python",
   "nbconvert_exporter": "python",
   "pygments_lexer": "ipython3",
   "version": "3.11.4"
  }
 },
 "nbformat": 4,
 "nbformat_minor": 5
}

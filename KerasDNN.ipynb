{
 "cells": [
  {
   "cell_type": "markdown",
   "id": "1edf8043-7d6b-4692-8dc5-bcd6fc7ea73d",
   "metadata": {
    "tags": []
   },
   "source": [
    "# Keras 신경망 구성\n",
    "  \n",
    "###### 2024-2-25 KH.LIM @Cheongju MyHappyHome\n",
    "XOR 연산을 하는 신경망을 만든다. \n",
    "1. 케라스를 이용해서 만들기  \n",
    "2. 파이썬으로 Neural Network 구성  \n",
    "  \n",
    "###### 신경망 교과서 참조\n",
    "###### over96@naver.com"
   ]
  },
  {
   "cell_type": "code",
   "execution_count": 3,
   "id": "61c369ba-c017-4067-8f45-09d90ab5dde5",
   "metadata": {
    "tags": []
   },
   "outputs": [
    {
     "name": "stdout",
     "output_type": "stream",
     "text": [
      "Defaulting to user installation because normal site-packages is not writeable\n",
      "Requirement already satisfied: keras in c:\\users\\happy home\\appdata\\roaming\\python\\python311\\site-packages (2.14.0)\n"
     ]
    }
   ],
   "source": [
    "!pip install keras"
   ]
  },
  {
   "cell_type": "markdown",
   "id": "edc755ce-44c7-49f3-b318-ec89a39ed189",
   "metadata": {},
   "source": [
    "## 1. 케라스를 이용해서 만들기"
   ]
  },
  {
   "cell_type": "code",
   "execution_count": null,
   "id": "e74bdca0-7225-4d87-a5c4-041281de2811",
   "metadata": {},
   "outputs": [],
   "source": [
    "\n",
    "\n",
    "# 비어있는 Sequential 모델 만들기\n",
    "\n",
    "from keras.models import Sequential\n",
    "model = Sequential()"
   ]
  },
  {
   "cell_type": "code",
   "execution_count": 45,
   "id": "562d00f7-98b4-4c7c-9c09-b2bf0ecccba9",
   "metadata": {},
   "outputs": [],
   "source": [
    "# 레이어 추가하기\n",
    "\n",
    "from keras.layers import Dense\n",
    "# 레이어 1 \n",
    "# input_dim 은 입력요소(차원)의 갯수, units은 출력차원의 수\n",
    "model.add(Dense(units=4, activation='sigmoid', input_dim=3))\n",
    "# 출력 레이어\n",
    "model.add(Dense(units=1, activation='sigmoid'))"
   ]
  },
  {
   "cell_type": "code",
   "execution_count": 46,
   "id": "599d16c5-3b06-4a5b-802e-a68211822ede",
   "metadata": {
    "tags": []
   },
   "outputs": [
    {
     "name": "stdout",
     "output_type": "stream",
     "text": [
      "Model: \"sequential_6\"\n",
      "_________________________________________________________________\n",
      " Layer (type)                Output Shape              Param #   \n",
      "=================================================================\n",
      " dense_23 (Dense)            (None, 4)                 16        \n",
      "                                                                 \n",
      " dense_24 (Dense)            (None, 1)                 5         \n",
      "                                                                 \n",
      "=================================================================\n",
      "Total params: 21 (84.00 Byte)\n",
      "Trainable params: 21 (84.00 Byte)\n",
      "Non-trainable params: 0 (0.00 Byte)\n",
      "_________________________________________________________________\n",
      "None\n"
     ]
    }
   ],
   "source": [
    "# 모델 아키텍처 검토하기\n",
    "print(model.summary())"
   ]
  },
  {
   "cell_type": "markdown",
   "id": "242391f9-8769-43ed-ab97-12477ae0ad17",
   "metadata": {},
   "source": [
    "Param # 은 모델이 훈련해야 할 가중치와 편향의 개수"
   ]
  },
  {
   "cell_type": "code",
   "execution_count": 47,
   "id": "109a467b-2623-441f-bdc9-5f6c3c4cbc3f",
   "metadata": {
    "tags": []
   },
   "outputs": [],
   "source": [
    "# 모델 컴파일 및 훈련\n",
    "\n",
    "from keras import optimizers\n",
    "sgd = optimizers.SGD(learning_rate=1)\n",
    "model.compile(loss='mean_squared_error', optimizer=sgd)"
   ]
  },
  {
   "cell_type": "code",
   "execution_count": 48,
   "id": "93b04eaf-eb37-4ebe-811d-5534d52718e5",
   "metadata": {
    "tags": []
   },
   "outputs": [],
   "source": [
    "# 학습데이터는 XOR 연산을 위한 데이터\n",
    "import numpy as np\n",
    "\n",
    "# 결과를 재현할 수 있도록 랜덤시드 고정\n",
    "np.random.seed(9)\n",
    "X = np.array([[0,0,1], [0,1,1], [1,0,1], [1,1,1]])\n",
    "y = np.array([[0],[1],[1],[0]])"
   ]
  },
  {
   "cell_type": "code",
   "execution_count": 49,
   "id": "486238f0-d4ab-464f-8ff7-62ae441ade90",
   "metadata": {
    "tags": []
   },
   "outputs": [
    {
     "data": {
      "text/plain": [
       "<keras.src.callbacks.History at 0x21a26c07350>"
      ]
     },
     "execution_count": 49,
     "metadata": {},
     "output_type": "execute_result"
    }
   ],
   "source": [
    "# 반복횟수 결정\n",
    "model.fit(X,y, epochs=1500, verbose=False)"
   ]
  },
  {
   "cell_type": "code",
   "execution_count": 50,
   "id": "4d5fda26-a546-4924-a243-24e5d4d1215d",
   "metadata": {
    "tags": []
   },
   "outputs": [
    {
     "name": "stdout",
     "output_type": "stream",
     "text": [
      "1/1 [==============================] - 0s 57ms/step\n",
      "[[0.05001061]\n",
      " [0.95613647]\n",
      " [0.93248785]\n",
      " [0.07582481]]\n"
     ]
    }
   ],
   "source": [
    "# 예측값\n",
    "print(model.predict(X))"
   ]
  },
  {
   "cell_type": "markdown",
   "id": "015038a8-5efa-4cb3-b52a-6e7940462063",
   "metadata": {},
   "source": [
    "  \n",
    "### 레이어 확장해보기"
   ]
  },
  {
   "cell_type": "code",
   "execution_count": null,
   "id": "aedebf01-bc25-47ab-8bdc-f8ed3bc14194",
   "metadata": {},
   "outputs": [],
   "source": []
  },
  {
   "cell_type": "code",
   "execution_count": 52,
   "id": "a321c39b-f4ba-421b-9f6c-f1e3c495a054",
   "metadata": {
    "tags": []
   },
   "outputs": [],
   "source": [
    "# 비어있는 Sequential 모델 만들기\n",
    "\n",
    "from keras.models import Sequential\n",
    "model = Sequential()"
   ]
  },
  {
   "cell_type": "code",
   "execution_count": 53,
   "id": "246c7d27-edf7-450b-afc9-ed50551396e0",
   "metadata": {},
   "outputs": [],
   "source": [
    "# 레이어 추가하기\n",
    "\n",
    "from keras.layers import Dense\n",
    "# 레이어 1 \n",
    "model.add(Dense(units=4, activation='sigmoid', input_dim=3))\n",
    "# 레이어 2 (추가)\n",
    "model.add(Dense(units=4, activation='sigmoid', input_dim=4))\n",
    "\n",
    "\n",
    "# 출력 레이어\n",
    "model.add(Dense(units=1, activation='sigmoid'))"
   ]
  },
  {
   "cell_type": "code",
   "execution_count": 54,
   "id": "f7afa988-00f9-4842-94e7-39b7300a112f",
   "metadata": {
    "tags": []
   },
   "outputs": [
    {
     "name": "stdout",
     "output_type": "stream",
     "text": [
      "Model: \"sequential_7\"\n",
      "_________________________________________________________________\n",
      " Layer (type)                Output Shape              Param #   \n",
      "=================================================================\n",
      " dense_28 (Dense)            (None, 4)                 16        \n",
      "                                                                 \n",
      " dense_29 (Dense)            (None, 4)                 20        \n",
      "                                                                 \n",
      " dense_30 (Dense)            (None, 1)                 5         \n",
      "                                                                 \n",
      "=================================================================\n",
      "Total params: 41 (164.00 Byte)\n",
      "Trainable params: 41 (164.00 Byte)\n",
      "Non-trainable params: 0 (0.00 Byte)\n",
      "_________________________________________________________________\n",
      "None\n"
     ]
    }
   ],
   "source": [
    "# 모델 아키텍처 검토하기\n",
    "print(model.summary())"
   ]
  },
  {
   "cell_type": "markdown",
   "id": "6019c60c-2eb2-4564-9267-5e84e9887aa4",
   "metadata": {},
   "source": [
    "Param # 은 모델이 훈련해야 할 가중치와 편향의 개수"
   ]
  },
  {
   "cell_type": "code",
   "execution_count": 55,
   "id": "c121eace-2eec-4476-b7d9-07d0b20224be",
   "metadata": {
    "tags": []
   },
   "outputs": [],
   "source": [
    "# 모델 컴파일 및 훈련\n",
    "\n",
    "from keras import optimizers\n",
    "sgd = optimizers.SGD(learning_rate=1)\n",
    "model.compile(loss='mean_squared_error', optimizer=sgd)"
   ]
  },
  {
   "cell_type": "code",
   "execution_count": 56,
   "id": "85f3fe65-cbcf-4798-9635-93b0f6306428",
   "metadata": {
    "tags": []
   },
   "outputs": [],
   "source": [
    "# 학습데이터는 XOR 연산을 위한 데이터\n",
    "import numpy as np\n",
    "\n",
    "# 결과를 재현할 수 있도록 랜덤시드 고정\n",
    "np.random.seed(9)\n",
    "X = np.array([[0,0,1], [0,1,1], [1,0,1], [1,1,1]])\n",
    "y = np.array([[0],[1],[1],[0]])"
   ]
  },
  {
   "cell_type": "code",
   "execution_count": 57,
   "id": "c7f73fef-54d6-462d-bcb2-c5442ca2bb91",
   "metadata": {
    "tags": []
   },
   "outputs": [
    {
     "data": {
      "text/plain": [
       "<keras.src.callbacks.History at 0x21a26ac3490>"
      ]
     },
     "execution_count": 57,
     "metadata": {},
     "output_type": "execute_result"
    }
   ],
   "source": [
    "# 반복횟수 결정\n",
    "model.fit(X,y, epochs=1500, verbose=False)"
   ]
  },
  {
   "cell_type": "code",
   "execution_count": 58,
   "id": "184408a8-f844-4abb-9fe3-304f6364e895",
   "metadata": {
    "tags": []
   },
   "outputs": [
    {
     "name": "stdout",
     "output_type": "stream",
     "text": [
      "1/1 [==============================] - 0s 62ms/step\n",
      "[[0.11487298]\n",
      " [0.81290907]\n",
      " [0.88001204]\n",
      " [0.18288772]]\n"
     ]
    }
   ],
   "source": [
    "# 예측값\n",
    "print(model.predict(X))"
   ]
  },
  {
   "cell_type": "markdown",
   "id": "6edaa857-8b37-4046-a3c7-6bf2523dbed4",
   "metadata": {},
   "source": [
    "-----  "
   ]
  },
  {
   "cell_type": "markdown",
   "id": "4c411c69-0d6d-419c-acd2-a3539f171fc5",
   "metadata": {},
   "source": [
    "## 2. 파이선을 이용해 Neural Network 만들기"
   ]
  },
  {
   "cell_type": "code",
   "execution_count": 1,
   "id": "bcc0a450-43de-4a14-ac39-9dc2c81a6193",
   "metadata": {},
   "outputs": [
    {
     "name": "stdout",
     "output_type": "stream",
     "text": [
      "[[0.04290954]\n",
      " [0.96855834]\n",
      " [0.96855835]\n",
      " [0.03951073]]\n"
     ]
    }
   ],
   "source": [
    "\n",
    "import numpy as np\n",
    "\n",
    "# 시그모이드 함수 정의\n",
    "def sigmoid(x):\n",
    "    return 1.0/(1+ np.exp(-x))\n",
    "\n",
    "# 시그모이드 함수 도함수(다소 이해 안 됨)\n",
    "def sigmoid_derivative(x):\n",
    "    return x * (1.0 - x)\n",
    "\n",
    "# 은닉층1개인 신경망 구성\n",
    "class NeuralNetwork:\n",
    "    def __init__(self, x, y):\n",
    "        self.input      = x\n",
    "        self.weights1   = np.random.rand(self.input.shape[1],2)  #가중치의 크기는 입력값의 '열'값과 은닉층의 '행'값으로 결정. 이는 입력데이터를 참고하면 이해됨.\n",
    "        self.weights2   = np.random.rand(2,1)                 \n",
    "        self.y          = y\n",
    "        self.output     = np.zeros(self.y.shape)\n",
    "\n",
    "        #순전파 과정\n",
    "    def feedforward(self):\n",
    "        self.layer1 = sigmoid(np.dot(self.input, self.weights1))\n",
    "        self.output = sigmoid(np.dot(self.layer1, self.weights2))\n",
    "\n",
    "        #역전파 과정\n",
    "    def backprop(self):\n",
    "        # weight2와 weights1에 따른 손실 함수의 미분을 찾기 위해 연쇄법칙을 활용한다\n",
    "        # T는 numpy 전치메서드\n",
    "        d_weights2 = np.dot(self.layer1.T, (2*(self.y - self.output) * sigmoid_derivative(self.output)))\n",
    "        d_weights1 = np.dot(self.input.T,  (np.dot(2*(self.y - self.output) * sigmoid_derivative(self.output), self.weights2.T) * sigmoid_derivative(self.layer1)))\n",
    "\n",
    "        # 손실 함수의 미분 값을 사용해 가중치를 갱신한다\n",
    "        self.weights1 += d_weights1\n",
    "        self.weights2 += d_weights2\n",
    "\n",
    "\n",
    "if __name__ == \"__main__\":\n",
    "    X = np.array([[0,0,1],\n",
    "                  [0,1,1],\n",
    "                  [1,0,1],\n",
    "                  [1,1,1]])\n",
    "    y = np.array([[0],[1],[1],[0]])\n",
    "    nn = NeuralNetwork(X,y)\n",
    "\n",
    "    for i in range(3000):\n",
    "        nn.feedforward()\n",
    "        nn.backprop()\n",
    "\n",
    "    print(nn.output)"
   ]
  },
  {
   "cell_type": "code",
   "execution_count": null,
   "id": "5a14edab-7e9f-4b4c-abf2-e2ff10651061",
   "metadata": {},
   "outputs": [],
   "source": []
  }
 ],
 "metadata": {
  "kernelspec": {
   "display_name": "Python 3 (ipykernel)",
   "language": "python",
   "name": "python3"
  },
  "language_info": {
   "codemirror_mode": {
    "name": "ipython",
    "version": 3
   },
   "file_extension": ".py",
   "mimetype": "text/x-python",
   "name": "python",
   "nbconvert_exporter": "python",
   "pygments_lexer": "ipython3",
   "version": "3.10.9"
  }
 },
 "nbformat": 4,
 "nbformat_minor": 5
}
